{
 "cells": [
  {
   "cell_type": "code",
   "execution_count": 1,
   "id": "462f28bf",
   "metadata": {},
   "outputs": [
    {
     "name": "stdout",
     "output_type": "stream",
     "text": [
      "how many passwords you wants to generate: 11\n",
      "enter the length of passwords: 12\n",
      "wjm8w0F,vPcP\n",
      "9utaM&MX5n10\n",
      "^5KWS%rlGyLC\n",
      "V(jimD)vJ2hI\n",
      "ph7SVI,.IDYH\n",
      "vxcP5ot@^@T@\n",
      "oSbMxPf,pBJO\n",
      "Px5JXbxhh*G(\n",
      "10gsL*3QWl%e\n",
      "Y1d*Vg(5gJgv\n",
      "Ta*SlB#iUG*j\n"
     ]
    }
   ],
   "source": [
    "import random\n",
    "\n",
    "char='abcdefghijklmnopqrstuvwxyxABCDEFGHIJKLMNOPQRSTUVWXYZ0123456789!@#$%^&*().,'\n",
    "\n",
    "num=int(input(\"how many passwords you wants to generate: \"))\n",
    "length=int(input(\"enter the length of passwords: \"))\n",
    "\n",
    "for pwd in range(num):\n",
    "    passwords=''\n",
    "    for c in range(length):\n",
    "        passwords+=random.choice(char)\n",
    "        \n",
    "    print(passwords)"
   ]
  },
  {
   "cell_type": "code",
   "execution_count": null,
   "id": "9dc3a8fc",
   "metadata": {},
   "outputs": [],
   "source": []
  }
 ],
 "metadata": {
  "kernelspec": {
   "display_name": "Python 3 (ipykernel)",
   "language": "python",
   "name": "python3"
  },
  "language_info": {
   "codemirror_mode": {
    "name": "ipython",
    "version": 3
   },
   "file_extension": ".py",
   "mimetype": "text/x-python",
   "name": "python",
   "nbconvert_exporter": "python",
   "pygments_lexer": "ipython3",
   "version": "3.11.4"
  }
 },
 "nbformat": 4,
 "nbformat_minor": 5
}
